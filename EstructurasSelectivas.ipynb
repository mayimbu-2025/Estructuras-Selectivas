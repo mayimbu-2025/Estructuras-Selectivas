{
  "nbformat": 4,
  "nbformat_minor": 0,
  "metadata": {
    "colab": {
      "provenance": [],
      "authorship_tag": "ABX9TyO8g//ck1KeYws7nu8x412D",
      "include_colab_link": true
    },
    "kernelspec": {
      "name": "python3",
      "display_name": "Python 3"
    },
    "language_info": {
      "name": "python"
    }
  },
  "cells": [
    {
      "cell_type": "markdown",
      "metadata": {
        "id": "view-in-github",
        "colab_type": "text"
      },
      "source": [
        "<a href=\"https://colab.research.google.com/github/mayimbu-2025/Estructuras-Selectivas/blob/main/EstructurasSelectivas.ipynb\" target=\"_parent\"><img src=\"https://colab.research.google.com/assets/colab-badge.svg\" alt=\"Open In Colab\"/></a>"
      ]
    },
    {
      "cell_type": "code",
      "execution_count": null,
      "metadata": {
        "id": "_7E3p4TXgllm"
      },
      "outputs": [],
      "source": []
    },
    {
      "cell_type": "markdown",
      "source": [
        "# Examen  de fundamento de programacion\n",
        "\n",
        "**Curso**: Fundamentos de programacion\n",
        "\n",
        "**Presentado por**: Daniel David Pedroza y Luis Benitez\n",
        "\n",
        "**Email**: danieldavidorado19@gmail.com\n",
        "\n",
        "**Fecha**: 03 Octubre de 2025\n"
      ],
      "metadata": {
        "id": "5lMOcC9Mgudm"
      }
    },
    {
      "cell_type": "code",
      "metadata": {
        "colab": {
          "base_uri": "https://localhost:8080/"
        },
        "id": "30d2b560",
        "outputId": "9fdf9dc3-cef0-4dc8-9537-241715f7bc45"
      },
      "source": [
        "numero_dia = int(input(\"Ingrese un número del 1 al 7: \"))\n",
        "\n",
        "dias_semana = {\n",
        "    1: \"Lunes\",\n",
        "    2: \"Martes\",\n",
        "    3: \"Miércoles\",\n",
        "    4: \"Jueves\",\n",
        "    5: \"Viernes\",\n",
        "    6: \"Sábado\",\n",
        "    7: \"Domingo\"\n",
        "}\n",
        "\n",
        "if numero_dia in dias_semana:\n",
        "  print(dias_semana[numero_dia])\n",
        "else:\n",
        "  print(\"Error: El número ingresado está fuera del rango (1-7).\")"
      ],
      "execution_count": 5,
      "outputs": [
        {
          "output_type": "stream",
          "name": "stdout",
          "text": [
            "Ingrese un número del 1 al 7: 5\n",
            "Viernes\n"
          ]
        }
      ]
    },
    {
      "cell_type": "markdown",
      "metadata": {
        "id": "d1769327"
      },
      "source": [
        "```\n",
        "INICIO\n",
        "  SOLICITAR al usuario que ingrese un número del 1 al 7\n",
        "  LEER el número ingresado por el usuario\n",
        "\n",
        "  CREAR un diccionario llamado dias_semana con las claves y valores siguientes:\n",
        "    1: \"Lunes\"\n",
        "    2: \"Martes\"\n",
        "    3: \"Miércoles\"\n",
        "    4: \"Jueves\"\n",
        "    5: \"Viernes\"\n",
        "    6: \"Sábado\"\n",
        "    7: \"Domingo\"\n",
        "\n",
        "  SI el número ingresado está en las claves del diccionario dias_semana ENTONCES\n",
        "    OBTENER el valor asociado al número ingresado en el diccionario\n",
        "    MOSTRAR el valor obtenido (el día de la semana)\n",
        "  SINO\n",
        "    MOSTRAR \"Error: El número ingresado está fuera del rango (1-7).\"\n",
        "  FIN SI\n",
        "\n",
        "FIN"
      ]
    },
    {
      "cell_type": "markdown",
      "metadata": {
        "id": "85267a65"
      },
      "source": [
        "```\n",
        "INICIO\n",
        "  SOLICITAR al usuario que ingrese la distancia recorrida en metros\n",
        "  LEER la distancia (d_metros)\n",
        "\n",
        "  SOLICITAR al usuario que ingrese el tiempo empleado en segundos\n",
        "  LEER el tiempo (t_segundos)\n",
        "\n",
        "  CALCULAR la velocidad en metros por segundo (v_mps) usando la fórmula: v_mps = d_metros / t_segundos\n",
        "\n",
        "  CONVERTIR la velocidad de m/s a km/h:\n",
        "    1 km = 1000 metros\n",
        "    1 hora = 3600 segundos\n",
        "    v_kmh = v_mps * (3600 / 1000)\n",
        "    v_kmh = v_mps * 3.6\n",
        "\n",
        "  SI v_kmh > 120 ENTONCES\n",
        "    MOSTRAR \"El vehículo va demasiado rápido.\"\n",
        "  SINO SI v_kmh < 20 ENTONCES\n",
        "    MOSTRAR \"El vehículo va demasiado lento.\"\n",
        "  SINO\n",
        "    MOSTRAR \"La velocidad calculada es:\", v_kmh, \"km/h\"\n",
        "  FIN SI\n",
        "\n",
        "FIN"
      ]
    },
    {
      "cell_type": "code",
      "source": [
        "distancia_metros = float(input(\"Por favor, ingrese la distancia recorrida en metros: \"))\n",
        "tiempo_segundos = float(input(\"Por favor, ingrese el tiempo empleado en segundos: \"))\n",
        "\n",
        "velocidad_mps = distancia_metros / tiempo_segundos\n",
        "\n",
        "# Factor de conversión de m/s a km/h\n",
        "factor_conversion = 3.6\n",
        "\n",
        "velocidad_kmh = velocidad_mps * factor_conversion\n",
        "\n",
        "if velocidad_kmh > 120:\n",
        "  print(\"Advertencia: El vehículo excede el límite de velocidad.\")\n",
        "elif velocidad_kmh < 20:\n",
        "  print(\"Advertencia: El vehículo no alcanza la velocidad mínima.\")\n",
        "else:\n",
        "  print(f\"La velocidad del vehículo es: {velocidad_kmh:.2f} km/h\")"
      ],
      "metadata": {
        "colab": {
          "base_uri": "https://localhost:8080/"
        },
        "id": "2VBCH50VpejP",
        "outputId": "006b506b-ec9e-4519-8234-8aa59b22fada"
      },
      "execution_count": 6,
      "outputs": [
        {
          "output_type": "stream",
          "name": "stdout",
          "text": [
            "Por favor, ingrese la distancia recorrida en metros: 20\n",
            "Por favor, ingrese el tiempo empleado en segundos: 60\n",
            "Advertencia: El vehículo no alcanza la velocidad mínima.\n"
          ]
        }
      ]
    },
    {
      "cell_type": "code",
      "source": [],
      "metadata": {
        "id": "MMqyXW_bpje0"
      },
      "execution_count": null,
      "outputs": []
    },
    {
      "cell_type": "markdown",
      "metadata": {
        "id": "1b9ed7b8"
      },
      "source": [
        "```\n",
        "INICIO\n",
        "  PREGUNTAR al cliente cuántas latas de grava quiere comprar\n",
        "  GUARDAR la cantidad de latas en una variable (cantidad_latas)\n",
        "\n",
        "  DEFINIR el precio por lata: $12,900 COP (precio_lata)\n",
        "  DEFINIR el costo fijo de transporte: $65,000 COP (costo_transporte_fijo)\n",
        "\n",
        "  CALCULAR el costo inicial sin descuentos ni transporte: costo_inicial = cantidad_latas * precio_lata\n",
        "\n",
        "  DEFINIR el porcentaje de descuento: 10% (porcentaje_descuento)\n",
        "  DEFINIR el umbral para descuento: 10 latas (umbral_descuento)\n",
        "  DEFINIR el umbral para transporte gratis: 30 latas (umbral_transporte_gratis)\n",
        "\n",
        "  INICIAR el monto del descuento en 0 (monto_descuento)\n",
        "\n",
        "  SI cantidad_latas es MAYOR que umbral_descuento ENTONCES\n",
        "    CALCULAR el monto del descuento: monto_descuento = costo_inicial * (porcentaje_descuento / 100)\n",
        "  FIN SI\n",
        "\n",
        "  CALCULAR el costo después del descuento: costo_despues_descuento = costo_inicial - monto_descuento\n",
        "\n",
        "  INICIAR el costo de transporte con el costo fijo (costo_transporte = costo_transporte_fijo)\n",
        "\n",
        "  SI cantidad_latas es MAYOR que umbral_transporte_gratis ENTONCES\n",
        "    PONER el costo de transporte en 0 (costo_transporte = 0)\n",
        "  FIN SI\n",
        "\n",
        "  CALCULAR el total a pagar: total_a_pagar = costo_despues_descuento + costo_transporte\n",
        "\n",
        "  MOSTRAR el total a pagar al cliente\n",
        "FIN"
      ]
    },
    {
      "cell_type": "code",
      "source": [],
      "metadata": {
        "id": "_2GXsA83qnh_"
      },
      "execution_count": null,
      "outputs": []
    },
    {
      "cell_type": "code",
      "metadata": {
        "colab": {
          "base_uri": "https://localhost:8080/"
        },
        "id": "e3db30d6",
        "outputId": "28acc096-3a9b-482c-cd5e-8a2412c19618"
      },
      "source": [
        "# Solicitar la cantidad de latas al cliente\n",
        "cantidad_latas = int(input(\"¿Cuántas latas de grava desea comprar? \"))\n",
        "\n",
        "# Definir precios y costos\n",
        "precio_por_lata = 12900  # Precio por lata en COP\n",
        "costo_transporte_fijo = 65000  # Costo fijo de transporte en COP\n",
        "\n",
        "# Definir umbrales y porcentaje de descuento\n",
        "umbral_descuento = 10  # Más de 10 latas para descuento\n",
        "porcentaje_descuento = 0.10  # 10% de descuento\n",
        "umbral_transporte_gratis = 30  # Más de 30 latas para transporte gratis\n",
        "\n",
        "# Calcular el costo inicial sin descuentos\n",
        "costo_inicial = cantidad_latas * precio_por_lata\n",
        "\n",
        "# Calcular el descuento (si aplica)\n",
        "monto_descuento = 0\n",
        "if cantidad_latas > umbral_descuento:\n",
        "  monto_descuento = costo_inicial * porcentaje_descuento\n",
        "\n",
        "# Calcular el costo después del descuento\n",
        "costo_despues_descuento = costo_inicial - monto_descuento\n",
        "\n",
        "# Calcular el costo de transporte (si aplica)\n",
        "costo_transporte = costo_transporte_fijo\n",
        "if cantidad_latas > umbral_transporte_gratis:\n",
        "  costo_transporte = 0\n",
        "\n",
        "# Calcular el total a pagar\n",
        "total_a_pagar = costo_despues_descuento + costo_transporte\n",
        "\n",
        "# Mostrar el total al cliente\n",
        "print(f\"El total a pagar es: ${total_a_pagar:,.0f} COP\")"
      ],
      "execution_count": 7,
      "outputs": [
        {
          "output_type": "stream",
          "name": "stdout",
          "text": [
            "¿Cuántas latas de grava desea comprar? 20\n",
            "El total a pagar es: $297,200 COP\n"
          ]
        }
      ]
    },
    {
      "cell_type": "code",
      "source": [],
      "metadata": {
        "id": "vzAel1ZTq4Xe"
      },
      "execution_count": null,
      "outputs": []
    }
  ]
}